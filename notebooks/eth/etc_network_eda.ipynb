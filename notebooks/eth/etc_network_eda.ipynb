{
 "cells": [
  {
   "cell_type": "markdown",
   "metadata": {},
   "source": [
    "## 📊 EDA & Outlier Detection: Ethereum Network Daily Data"
   ]
  },
  {
   "cell_type": "markdown",
   "metadata": {},
   "source": [
    "This notebook performs exploratory data analysis (EDA) and basic outlier detection on daily ETH network metrics such as transaction count, total fees, and active addresses.\n",
    "\n",
    "All results are saved under `results/eth/`"
   ]
  },
  {
   "cell_type": "code",
   "execution_count": 1,
   "metadata": {},
   "outputs": [],
   "source": [
    "import pandas as pd\n",
    "import matplotlib.pyplot as plt\n",
    "import seaborn as sns\n",
    "import os"
   ]
  },
  {
   "cell_type": "markdown",
   "metadata": {},
   "source": [
    "# Ensure output directory exists"
   ]
  },
  {
   "cell_type": "code",
   "execution_count": 2,
   "metadata": {},
   "outputs": [],
   "source": [
    "os.makedirs(\"../../results/eth\", exist_ok=True)"
   ]
  },
  {
   "cell_type": "markdown",
   "metadata": {},
   "source": [
    "# Load daily network statistics"
   ]
  },
  {
   "cell_type": "code",
   "execution_count": 3,
   "metadata": {},
   "outputs": [],
   "source": [
    "df = pd.read_csv(\"../../data/eth/eth_network_daily.csv\")"
   ]
  },
  {
   "cell_type": "markdown",
   "metadata": {},
   "source": [
    "# Convert date column"
   ]
  },
  {
   "cell_type": "code",
   "execution_count": 4,
   "metadata": {},
   "outputs": [],
   "source": [
    "df['Date'] = pd.to_datetime(df['Date'])"
   ]
  },
  {
   "cell_type": "markdown",
   "metadata": {},
   "source": [
    "# 📈 Plot time series of core metrics"
   ]
  },
  {
   "cell_type": "code",
   "execution_count": 5,
   "metadata": {},
   "outputs": [],
   "source": [
    "plt.figure(figsize=(12, 4))\n",
    "plt.plot(df['Date'], df['tx_count'], label='Transaction Count')\n",
    "plt.title(\"Daily Transaction Count (ETH)\")\n",
    "plt.xlabel(\"Date\")\n",
    "plt.ylabel(\"Transactions\")\n",
    "plt.tight_layout()\n",
    "plt.savefig(\"../../results/eth/tx_count_timeseries.png\")\n",
    "plt.close()"
   ]
  },
  {
   "cell_type": "code",
   "execution_count": 6,
   "metadata": {},
   "outputs": [],
   "source": [
    "\n",
    "plt.figure(figsize=(12, 4))\n",
    "plt.plot(df['Date'], df['total_fees'], label='Total Fees (ETH)', color='orange')\n",
    "plt.title(\"Daily Total Fees (ETH)\")\n",
    "plt.xlabel(\"Date\")\n",
    "plt.ylabel(\"ETH\")\n",
    "plt.tight_layout()\n",
    "plt.savefig(\"../../results/eth/total_fees_timeseries.png\")\n",
    "plt.close()"
   ]
  },
  {
   "cell_type": "code",
   "execution_count": 7,
   "metadata": {},
   "outputs": [],
   "source": [
    "plt.figure(figsize=(12, 4))\n",
    "plt.plot(df['Date'], df['active_addresses'], label='Active Addresses', color='green')\n",
    "plt.title(\"Daily Active Addresses (ETH)\")\n",
    "plt.xlabel(\"Date\")\n",
    "plt.ylabel(\"Addresses\")\n",
    "plt.tight_layout()\n",
    "plt.savefig(\"../../results/eth/active_addresses_timeseries.png\")\n",
    "plt.close()"
   ]
  },
  {
   "cell_type": "markdown",
   "metadata": {},
   "source": [
    "# 📊 Distribution plots"
   ]
  },
  {
   "cell_type": "code",
   "execution_count": 8,
   "metadata": {},
   "outputs": [],
   "source": [
    "plt.figure(figsize=(12, 6))\n",
    "for i, col in enumerate(['tx_count', 'total_fees', 'active_addresses']):\n",
    "    plt.subplot(1, 3, i+1)\n",
    "    sns.histplot(df[col], kde=True)\n",
    "    plt.title(f\"Distribution: {col}\")\n",
    "plt.tight_layout()\n",
    "plt.savefig(\"../../results/eth/feature_distributions.png\")\n",
    "plt.close()"
   ]
  },
  {
   "cell_type": "markdown",
   "metadata": {},
   "source": [
    "# 🔥 Correlation heatmap"
   ]
  },
  {
   "cell_type": "code",
   "execution_count": 9,
   "metadata": {},
   "outputs": [],
   "source": [
    "plt.figure(figsize=(6, 5))\n",
    "sns.heatmap(df[['tx_count', 'total_fees', 'active_addresses']].corr(), annot=True, cmap='coolwarm')\n",
    "plt.title(\"Feature Correlation Heatmap\")\n",
    "plt.tight_layout()\n",
    "plt.savefig(\"../../results/eth/correlation_heatmap.png\")\n",
    "plt.close()"
   ]
  },
  {
   "cell_type": "markdown",
   "metadata": {},
   "source": [
    "# 🚨 Outlier Detection (IQR method)"
   ]
  },
  {
   "cell_type": "code",
   "execution_count": 10,
   "metadata": {},
   "outputs": [],
   "source": [
    "outlier_flags = {}"
   ]
  },
  {
   "cell_type": "code",
   "execution_count": 11,
   "metadata": {},
   "outputs": [],
   "source": [
    "for col in ['tx_count', 'total_fees', 'active_addresses']:\n",
    "    Q1 = df[col].quantile(0.25)\n",
    "    Q3 = df[col].quantile(0.75)\n",
    "    IQR = Q3 - Q1\n",
    "    lower_bound = Q1 - 1.5 * IQR\n",
    "    upper_bound = Q3 + 1.5 * IQR\n",
    "    flag_col = f\"is_outlier_{col}\"\n",
    "    df[flag_col] = (df[col] < lower_bound) | (df[col] > upper_bound)\n",
    "    outlier_flags[flag_col] = df[flag_col].sum()"
   ]
  },
  {
   "cell_type": "markdown",
   "metadata": {},
   "source": [
    "# Create single flag for any kind of outlier in a row\n"
   ]
  },
  {
   "cell_type": "code",
   "execution_count": 12,
   "metadata": {},
   "outputs": [],
   "source": [
    "df['any_outlier'] = df[[f\"is_outlier_{col}\" for col in ['tx_count', 'total_fees', 'active_addresses']]].any(axis=1)"
   ]
  },
  {
   "cell_type": "markdown",
   "metadata": {},
   "source": [
    "# Save rows marked as outliers"
   ]
  },
  {
   "cell_type": "code",
   "execution_count": 13,
   "metadata": {},
   "outputs": [],
   "source": [
    "df[df['any_outlier']].to_csv(\"../../results/eth/eth_outliers.csv\", index=False)"
   ]
  },
  {
   "cell_type": "markdown",
   "metadata": {},
   "source": [
    "# Save annotated full data"
   ]
  },
  {
   "cell_type": "code",
   "execution_count": 14,
   "metadata": {},
   "outputs": [],
   "source": [
    "df.to_csv(\"../../results/eth/eth_network_daily_annotated.csv\", index=False)"
   ]
  },
  {
   "cell_type": "code",
   "execution_count": 15,
   "metadata": {},
   "outputs": [
    {
     "name": "stdout",
     "output_type": "stream",
     "text": [
      "EDA and outlier detection completed. Results saved to `results/eth/`.\n"
     ]
    }
   ],
   "source": [
    "print(\"EDA and outlier detection completed. Results saved to `results/eth/`.\")"
   ]
  }
 ],
 "metadata": {
  "kernelspec": {
   "display_name": "base",
   "language": "python",
   "name": "python3"
  },
  "language_info": {
   "codemirror_mode": {
    "name": "ipython",
    "version": 3
   },
   "file_extension": ".py",
   "mimetype": "text/x-python",
   "name": "python",
   "nbconvert_exporter": "python",
   "pygments_lexer": "ipython3",
   "version": "3.12.7"
  }
 },
 "nbformat": 4,
 "nbformat_minor": 2
}
